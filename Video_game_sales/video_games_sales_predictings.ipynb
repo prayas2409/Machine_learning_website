{
 "cells": [
  {
   "cell_type": "markdown",
   "metadata": {
    "_uuid": "7bd5224918286898d699c77b316bc5126c916d30"
   },
   "source": [
    "# Predicting video games sales\n",
    "\n",
    "## Introduction\n",
    "This is my first project on kaggle in which I am trying to build a model that can predict video games sales based on other features from this dataset. Below I'll try to explain the steps I took, difficulties I encountered and possible solutions that came to my mind.  \n",
    "  \n",
    "  All comments and suggetions are appreciated."
   ]
  },
  {
   "cell_type": "markdown",
   "metadata": {
    "_uuid": "77d24b54ea83aa751e092e784400a97905f1b86e"
   },
   "source": [
    "## Preparations and EDA\n",
    "Importing data science packages and checking what files there are in the dataset"
   ]
  },
  {
   "cell_type": "code",
   "execution_count": null,
   "metadata": {
    "_cell_guid": "b1076dfc-b9ad-4769-8c92-a6c4dae69d19",
    "_uuid": "8f2839f25d086af736a60e9eeb907d3b93b6e0e5"
   },
   "outputs": [],
   "source": [
    "            # This Python 3 environment comes with many helpful analytics libraries installed\n",
    "# It is defined by the kaggle/python docker image: https://github.com/kaggle/docker-python\n",
    "# For example, here's several helpful packages to load in \n",
    "\n",
    "import numpy as np # linear algebra\n",
    "import pandas as pd # data processing, CSV file I/O (e.g. pd.read_csv)\n",
    "\n",
    "# Input data files are available in the \"../input/\" directory.\n",
    "# For example, running this (by clicking run or pressing Shift+Enter) will list the files in the input directory\n",
    "\n",
    "import os\n",
    "print(os.listdir(\"../input\"))\n",
    "\n",
    "# Any results you write to the current directory are saved as output."
   ]
  },
  {
   "cell_type": "markdown",
   "metadata": {
    "_uuid": "9927dd137ecc8f23be591f90281cfc6b5e027e92"
   },
   "source": [
    "Setting visualisation parameters"
   ]
  },
  {
   "cell_type": "code",
   "execution_count": null,
   "metadata": {
    "_uuid": "e84c085fb13c6d83d48f44c7b96ab09a2d31a74f",
    "collapsed": true
   },
   "outputs": [],
   "source": [
    "# No warnings about setting value on copy of slice\n",
    "pd.options.mode.chained_assignment = None\n",
    "pd.set_option('display.max_columns', None)  \n",
    "pd.set_option('display.expand_frame_repr', False)\n",
    "pd.set_option('max_colwidth', -1)\n",
    "\n",
    "# Matplotlib visualization\n",
    "import matplotlib.pyplot as plt\n",
    "%matplotlib inline\n",
    "plt.style.use(\"fivethirtyeight\")\n",
    "\n",
    "# Set default font size and facecolor\n",
    "plt.rcParams[\"font.size\"] = 24\n",
    "plt.rcParams[\"figure.facecolor\"] = \"white\"\n",
    "plt.rcParams[\"axes.facecolor\"] = \"white\"\n",
    "\n",
    "# Internal ipython tool for setting figure size\n",
    "from IPython.core.pylabtools import figsize\n",
    "figsize(15, 12)\n",
    "\n",
    "# Seaborn for visualization\n",
    "import seaborn as sns"
   ]
  },
  {
   "cell_type": "markdown",
   "metadata": {
    "_uuid": "396f32062612b88afedcaa4def2c0f8cfe78a21d"
   },
   "source": [
    "Reading and exploring data"
   ]
  },
  {
   "cell_type": "code",
   "execution_count": null,
   "metadata": {
    "_uuid": "b13d129d4d4ee44e69f80ac19508c4eddd691e8f"
   },
   "outputs": [],
   "source": [
    "data = pd.read_csv(\"../input/Video_Games_Sales_as_at_22_Dec_2016.csv\")\n",
    "data.info()"
   ]
  },
  {
   "cell_type": "markdown",
   "metadata": {
    "_uuid": "5877e1a472e13490b5a55062cbe1b21dcdcae313"
   },
   "source": [
    "There are ~17k games, but some of the data is missing. For instance,  only around half of all games has a critic score. This might be a problem for the prediction model, as I was thinking that critic score will be one of the main features. But I will come back to it later. Another issue is that the User_Score column has type object instead of float (like Critic_Score). It means that there are non-numeric values and I'll have to get rid of them."
   ]
  },
  {
   "cell_type": "markdown",
   "metadata": {
    "_uuid": "ef0074ad6af75a5cb00ed0f36920475dd3fe1edc"
   },
   "source": [
    "Here I am doing 3 things:\n",
    "1. Renaming columns for ease of use\n",
    "2. Droping games without a year of release or genre\n",
    "3. Creating a new column for age of the game"
   ]
  },
  {
   "cell_type": "code",
   "execution_count": null,
   "metadata": {
    "_uuid": "23bc0fe0e774c47873ea7f262b7f899f3674440f"
   },
   "outputs": [],
   "source": [
    "data = data.rename(columns={\"Year_of_Release\": \"Year\", \n",
    "                            \"NA_Sales\": \"NA\",\n",
    "                            \"EU_Sales\": \"EU\",\n",
    "                            \"JP_Sales\": \"JP\",\n",
    "                            \"Other_Sales\": \"Other\",\n",
    "                            \"Global_Sales\": \"Global\"})\n",
    "data = data[data[\"Year\"].notnull()]\n",
    "data = data[data[\"Genre\"].notnull()]\n",
    "data[\"Year\"] = data[\"Year\"].apply(int)\n",
    "data[\"Age\"] = 2018 - data[\"Year\"]\n",
    "data.describe(include=\"all\")"
   ]
  },
  {
   "cell_type": "markdown",
   "metadata": {
    "_uuid": "4b8bbb62fb87d94fc01558f31696fcb0cdeeeed3"
   },
   "source": [
    "2 things to see in the table above:\n",
    "1. The top value in User_Score column is \"tbd\" which I will mark as NaN.\n",
    "2. There are serious outliers in sales columns (Global, EU, NA, JP, Other) and User_Count column."
   ]
  },
  {
   "cell_type": "markdown",
   "metadata": {
    "_uuid": "371a629815ce05f83f7eed50314c7382c9187658"
   },
   "source": [
    "Now let's do some visualisation of the data."
   ]
  },
  {
   "cell_type": "code",
   "execution_count": null,
   "metadata": {
    "_uuid": "af8a90d3faecf12f2f29959aeb6cf50016826724"
   },
   "outputs": [],
   "source": [
    "# Histogram plot of Year of release\n",
    "num_years = data[\"Year\"].max() - data[\"Year\"].min() + 1\n",
    "plt.hist(data[\"Year\"], bins=num_years, color=\"lightskyblue\", edgecolor=\"black\")\n",
    "plt.title(\"Distribution of year of release\")\n",
    "plt.xlabel(\"Year\")\n",
    "plt.ylabel(\"Number of games\");"
   ]
  },
  {
   "cell_type": "code",
   "execution_count": null,
   "metadata": {
    "_uuid": "bfa1ca95f1034c9f86135818d5eb90db8e89876a"
   },
   "outputs": [],
   "source": [
    "# Replacing \"tbd\" values with np.nan and transforming column to float type\n",
    "data[\"User_Score\"] = data[\"User_Score\"].replace(\"tbd\", np.nan).astype(float)\n",
    "\n",
    "g = sns.jointplot(x=\"User_Score\", y=\"Critic_Score\", data=data, cmap=\"Blues\", kind=\"hex\", \n",
    "                  size=10, marginal_kws={\"hist_kws\" : {\"edgecolor\": \"black\", \"color\": \"lightskyblue\", \"alpha\": 1}}, \n",
    "                  annot_kws={\"loc\": 4, \"fontsize\": 18});\n",
    "g.ax_marg_x.grid(False)\n",
    "g.ax_marg_y.grid(False);"
   ]
  },
  {
   "cell_type": "markdown",
   "metadata": {
    "_uuid": "bd83c693d40239bdca5b7de1ebc9579d81985091"
   },
   "source": [
    "Most of the games have a pretty good score, 7+ (or 70+ for critic score). Pearson's correlation coefficient is 0.58 between critic and user scores. "
   ]
  },
  {
   "cell_type": "markdown",
   "metadata": {
    "_uuid": "7a2fd010c163fa36946a7fee23843c7eb5fbcd15"
   },
   "source": [
    "Next I want to see how many values there are missing in each column. I am using a function I found in one of [William Koehrsen](https://towardsdatascience.com/@williamkoehrsen) blogs on Medium."
   ]
  },
  {
   "cell_type": "code",
   "execution_count": null,
   "metadata": {
    "_uuid": "9d4bb58f3a26b31edc31d7b65ba95417859fcac0",
    "collapsed": true
   },
   "outputs": [],
   "source": [
    "# Function to calculate missing values by column\n",
    "def missing_values_table(df):\n",
    "        # Total missing values\n",
    "        mis_val = df.isnull().sum()\n",
    "        \n",
    "        # Percentage of missing values\n",
    "        mis_val_percent = 100 * df.isnull().sum() / len(df)\n",
    "        \n",
    "        # Make a table with the results\n",
    "        mis_val_table = pd.concat([mis_val, mis_val_percent], axis=1)\n",
    "        \n",
    "        # Rename the columns\n",
    "        mis_val_table_ren_columns = mis_val_table.rename(\n",
    "        columns = {0 : \"Missing Values\", 1 : \"% of Total Values\"})\n",
    "        \n",
    "        # Sort the table by percentage of missing descending\n",
    "        mis_val_table_ren_columns = mis_val_table_ren_columns[\n",
    "            mis_val_table_ren_columns.iloc[:,1] != 0].sort_values(\n",
    "        \"% of Total Values\", ascending=False).round(1)\n",
    "        \n",
    "        # Print some summary information\n",
    "        print (\"Your selected dataframe has \" + str(df.shape[1]) + \" columns.\\n\"      \n",
    "            \"There are \" + str(mis_val_table_ren_columns.shape[0]) +\n",
    "              \" columns that have missing values.\")\n",
    "        \n",
    "        # Return the dataframe with missing information\n",
    "        return mis_val_table_ren_columns"
   ]
  },
  {
   "cell_type": "code",
   "execution_count": null,
   "metadata": {
    "_uuid": "85b54084e06a6cd63a01a618469f47a35166c92b"
   },
   "outputs": [],
   "source": [
    "missing_values_table(data)"
   ]
  },
  {
   "cell_type": "raw",
   "metadata": {
    "_uuid": "c7ff8d4c598e224e895ca954bfe0bd11e87bf892"
   },
   "source": [
    "More than 50% of user and critic scores are missing. That's a lot! Usually you should drop features with too many missing values, but here I think that scores are invaluable for sales prediction, so I'll have to find a way around the problem."
   ]
  },
  {
   "cell_type": "raw",
   "metadata": {
    "_uuid": "ae7a63fcaf11047d6bcc738288c4993f73b965e6"
   },
   "source": [
    "As I mentioned above, there are outliers in sales columns. They might be usefull for training as they indicate bestseller games, but for now I am going to remove them and maybe add them later.  \n",
    "  \n",
    "  Again, I took this very useful function from William Koehrsen. Here an outlier is defined as a value greater than (or lesser than) third quartile (first quartile) plus 3 interquartile ranges (minus 3 interqurtile ranges). "
   ]
  },
  {
   "cell_type": "code",
   "execution_count": null,
   "metadata": {
    "_uuid": "392fe0b78afbc8e4f476430b29f18906cbc70666",
    "collapsed": true
   },
   "outputs": [],
   "source": [
    "def rm_outliers(df, list_of_keys):\n",
    "    df_out = df\n",
    "    for key in list_of_keys:\n",
    "        # Calculate first and third quartile\n",
    "        first_quartile = df_out[key].describe()[\"25%\"]\n",
    "        third_quartile = df_out[key].describe()[\"75%\"]\n",
    "\n",
    "        # Interquartile range\n",
    "        iqr = third_quartile - first_quartile\n",
    "\n",
    "        # Remove outliers\n",
    "        removed = df_out[(df_out[key] <= (first_quartile - 3 * iqr)) |\n",
    "                    (df_out[key] >= (third_quartile + 3 * iqr))] \n",
    "        df_out = df_out[(df_out[key] > (first_quartile - 3 * iqr)) &\n",
    "                    (df_out[key] < (third_quartile + 3 * iqr))]\n",
    "    return df_out, removed"
   ]
  },
  {
   "cell_type": "code",
   "execution_count": null,
   "metadata": {
    "_uuid": "288740f946e797535a7a5cabc973b6cc42dc52b0"
   },
   "outputs": [],
   "source": [
    "data, rmvd_global = rm_outliers(data, [\"Global\"])\n",
    "data.describe()"
   ]
  },
  {
   "cell_type": "markdown",
   "metadata": {
    "_uuid": "1206fc7a4ec9db4ddda4d103623e9999961d8718"
   },
   "source": [
    "I am going to build 2 models: a basic one and a more complicated. In a basic model i will drop games without a score (critic or user) and train it on the remaining data. I will also do minimum feature engineering or feature selection. After I am finished with the basic model, I am going to come back to the full dataset and try to impute missing values and create new features.  \n",
    "  \n",
    "  Let's investigate differences between the groups (with and without score). "
   ]
  },
  {
   "cell_type": "code",
   "execution_count": null,
   "metadata": {
    "_uuid": "f4a39609a9dbcee42b179c12adb627aef12c1923",
    "collapsed": true
   },
   "outputs": [],
   "source": [
    "data[\"Has_Score\"] = data[\"User_Score\"].notnull() & data[\"Critic_Score\"].notnull()\n",
    "rmvd_global[\"Has_Score\"] = rmvd_global[\"User_Score\"].notnull() & rmvd_global[\"Critic_Score\"].notnull()"
   ]
  },
  {
   "cell_type": "code",
   "execution_count": null,
   "metadata": {
    "_uuid": "9c763a9566284d6ffdb284b9a24dd5edff8b30d9"
   },
   "outputs": [],
   "source": [
    "from matplotlib.lines import Line2D\n",
    "plt.hist(data[data[\"Has_Score\"]==True][\"Year\"], color=\"limegreen\", alpha=0.5, \n",
    "         bins=range(1980, 2021), edgecolor=\"black\")\n",
    "plt.hist(data[data[\"Has_Score\"]==False][\"Year\"], color=\"indianred\", alpha=0.5, \n",
    "         bins=range(1980, 2021), edgecolor=\"black\")\n",
    "plt.title(\"Distribution of year of release\")\n",
    "plt.xlabel(\"Year of release\")\n",
    "plt.ylabel(\"Number of games\")\n",
    "plt.legend(handles=[Line2D([0], [0], color=\"limegreen\", lw=20, label=\"True\", alpha=0.5),\n",
    "                    Line2D([0], [0], color=\"indianred\", lw=20, label=\"False\", alpha=0.5)],\n",
    "           title=\"Has_Score\", loc=6);"
   ]
  },
  {
   "cell_type": "markdown",
   "metadata": {
    "_uuid": "e0b7c552bb70a5627759523351e3fd87eda7778d"
   },
   "source": [
    "I see that games with score are more evenly spread between 2000 and 2015, while there is a peak at 2010 for games without score. Probably there were so many games published in 2010 that a lot of them remained unnoticed by the community.  \n",
    "  \n",
    "  Another difference I noticed is in a range 1995-2000. Very few games from that period have scores, while the total number of games is quite significant. I think videogames were only starting to rise in popularity, but there was no dedicated platform (like Steam now) or specialised magazine to review games. "
   ]
  },
  {
   "cell_type": "code",
   "execution_count": null,
   "metadata": {
    "_uuid": "b622b18134fa2690c67bf0f72623918f30d5a14b"
   },
   "outputs": [],
   "source": [
    "plt.hist(data[data[\"Has_Score\"]==True][\"Global\"], color=\"limegreen\", alpha=0.5, \n",
    "         edgecolor=\"black\")\n",
    "plt.hist(data[data[\"Has_Score\"]==False][\"Global\"], color=\"indianred\", alpha=0.5, \n",
    "         edgecolor=\"black\")\n",
    "plt.title(\"Distribution of global sales\")\n",
    "plt.xlabel(\"Global sales, $M\")\n",
    "plt.ylabel(\"Number of games\")\n",
    "plt.legend(handles=[Line2D([0], [0], color=\"limegreen\", lw=20, label=\"True\", alpha=0.5),\n",
    "                    Line2D([0], [0], color=\"indianred\", lw=20, label=\"False\", alpha=0.5)],\n",
    "           title=\"Has_Score\", loc=7);"
   ]
  },
  {
   "cell_type": "markdown",
   "metadata": {
    "_uuid": "c8f43d31b99846ab71a85f8afae8ce00c6bb67b5"
   },
   "source": [
    "Games without score tend to have less global sales."
   ]
  },
  {
   "cell_type": "markdown",
   "metadata": {
    "_uuid": "ba80cb4c8fa007be7825a5632b449a6eac71ae84"
   },
   "source": [
    "I want to see in what region games were more popular, based on sales."
   ]
  },
  {
   "cell_type": "code",
   "execution_count": null,
   "metadata": {
    "_uuid": "0288830a24ff9ca85fda5dfad74bd2ad1c34355d"
   },
   "outputs": [],
   "source": [
    "data[\"Country\"] = data[[\"NA\", \"EU\", \"JP\", \"Other\"]].idxmax(1, skipna=True)\n",
    "palette = {True: \"limegreen\", False: \"indianred\"}\n",
    "sns.factorplot(y=\"Country\", hue=\"Has_Score\", data=data, size=8, kind=\"count\", palette=palette)\n",
    "sns.factorplot(y=\"Country\", x=\"Global\", hue=\"Has_Score\", data=data, size=8, kind=\"bar\", palette=palette,\n",
    "               estimator=lambda x: np.median(x));"
   ]
  },
  {
   "cell_type": "markdown",
   "metadata": {
    "_uuid": "68c904f7e9c82a5edca696bc95e9ddff97ea5b82"
   },
   "source": [
    "While EU and NA have approximately the same number of scored and not scored games, situation is absolutely different for Japan. Majority of games, that were more popular in Japan than in other regions, does not have a user or critic score. Mean global sales is less for games without score, which confirmes what we saw from the histogram above."
   ]
  },
  {
   "cell_type": "markdown",
   "metadata": {
    "_uuid": "37e906d91405ddba33c45f3383cb188f08b92b7e"
   },
   "source": [
    "## Basic model"
   ]
  },
  {
   "cell_type": "markdown",
   "metadata": {
    "_uuid": "f75ecb40f8d45f16bcd03b71c261d89f86734bc9"
   },
   "source": [
    "For my basic model I am going to drop games that don't have a user score, critic score or rating. "
   ]
  },
  {
   "cell_type": "code",
   "execution_count": null,
   "metadata": {
    "_uuid": "6771861b0cf189fbc2754edcbbe6a2a91e55fcd0"
   },
   "outputs": [],
   "source": [
    "scored = data.dropna(subset=[\"User_Score\", \"Critic_Score\", \"Rating\"])\n",
    "scored.describe()"
   ]
  },
  {
   "cell_type": "markdown",
   "metadata": {
    "_uuid": "d42a9c37921be9f49f42342885193105b05f44bc"
   },
   "source": [
    "I will also remove outliers in User_Count column."
   ]
  },
  {
   "cell_type": "code",
   "execution_count": null,
   "metadata": {
    "_uuid": "4abfe580601a758fe01349319fb151353f017f5d"
   },
   "outputs": [],
   "source": [
    "scored, rmvd_user_count = rm_outliers(scored, [\"User_Count\"])\n",
    "scored.describe()"
   ]
  },
  {
   "cell_type": "markdown",
   "metadata": {
    "_uuid": "329ffe6db26377d1e2a43c320d3bf9666414c4af"
   },
   "source": [
    "Only 5.5k games, ~1/3 of all games in a dataset. That doesn't seem good to me, but for a basic model it will be ok."
   ]
  },
  {
   "cell_type": "code",
   "execution_count": null,
   "metadata": {
    "_uuid": "95dadace6ef8e304127b792bd1d7d59cb695a341"
   },
   "outputs": [],
   "source": [
    "scored[\"Platform\"].unique(), scored[\"Genre\"].unique(), scored[\"Rating\"].unique()"
   ]
  },
  {
   "cell_type": "markdown",
   "metadata": {
    "_uuid": "e685a079750f1f114524b86a6b4b2ee53f0de40b"
   },
   "source": [
    "There are 17 unique platfoms, 12 unique genres and 5 ratings in the remaining data. In the advanced model I will try grouping platforms to reduce amount, but for now I will just one-hot encode them. "
   ]
  },
  {
   "cell_type": "markdown",
   "metadata": {
    "_uuid": "a34c30dff9aab3ee2f2922a2f6ae65085c8a40c5"
   },
   "source": [
    "Feaures will consist of numeric columns (except for sales in regions and year - using age instead) and one-hot encoded categorical columns (platform, genre, rating)."
   ]
  },
  {
   "cell_type": "code",
   "execution_count": null,
   "metadata": {
    "_uuid": "eb939b2e6f2760123d1ba660a10a48dd5de09c1a",
    "collapsed": true
   },
   "outputs": [],
   "source": [
    "import category_encoders as ce\n",
    "# Select the numeric columns\n",
    "numeric_subset = scored.select_dtypes(\"number\").drop(columns=[\"NA\", \"EU\", \"JP\", \"Other\", \"Year\"])\n",
    "\n",
    "# Select the categorical column\n",
    "categorical_subset = scored[[\"Platform\", \"Genre\", \"Rating\"]]\n",
    "\n",
    "# One hot encode\n",
    "encoder = ce.one_hot.OneHotEncoder()\n",
    "categorical_subset = encoder.fit_transform(categorical_subset)\n",
    "\n",
    "# Join the two dataframes using concat\n",
    "# Make sure to use axis = 1 to perform a column bind\n",
    "features = pd.concat([numeric_subset, categorical_subset], axis = 1)\n",
    "\n",
    "# Find correlations with the score \n",
    "correlations = features.corr()[\"Global\"].dropna().sort_values()"
   ]
  },
  {
   "cell_type": "markdown",
   "metadata": {
    "_uuid": "6bfcdc192915a20686dbf01535beb0178d306e1d"
   },
   "source": [
    "Let's look at the highest and lowest correlations with the global sales column. "
   ]
  },
  {
   "cell_type": "code",
   "execution_count": null,
   "metadata": {
    "_uuid": "4a2d3f361a843d789a2fafbaa711751d67fc88e4"
   },
   "outputs": [],
   "source": [
    "correlations.head(5)"
   ]
  },
  {
   "cell_type": "code",
   "execution_count": null,
   "metadata": {
    "_uuid": "dd420c0266edc6ec701d27b823bf08238104c07a"
   },
   "outputs": [],
   "source": [
    "correlations.tail(5)"
   ]
  },
  {
   "cell_type": "markdown",
   "metadata": {
    "_uuid": "9079f3ca6593abdcdc58a6ede84bcf0f53c1dd16"
   },
   "source": [
    "Lowest correlation is Platform_PC, which seems strange to me. Highest are critic and user scores and counts, which is understandable. "
   ]
  },
  {
   "cell_type": "markdown",
   "metadata": {
    "_uuid": "400482a6ee902bea6e5bd920137923bbe16c4682"
   },
   "source": [
    "This is another usefull function I copied from William. It shows scatterplots, histograms and kdeplots of selected columns on a seaborn PairGrid."
   ]
  },
  {
   "cell_type": "code",
   "execution_count": null,
   "metadata": {
    "_uuid": "81896dea2f230878a57e5fb9ef70b7c53974c8a0"
   },
   "outputs": [],
   "source": [
    "# Extract the columns to  plot\n",
    "plot_data = features[[\"Global\", \"Critic_Score\", \"User_Score\",\n",
    "                      \"Critic_Count\", \"User_Count\"]]\n",
    "\n",
    "# Function to calculate correlation coefficient between two columns\n",
    "def corr_func(x, y, **kwargs):\n",
    "    r = np.corrcoef(x, y)[0][1]\n",
    "    ax = plt.gca()\n",
    "    ax.annotate(\"r = {:.2f}\".format(r),\n",
    "                xy=(.2, .8), xycoords=ax.transAxes,\n",
    "                size = 20)\n",
    "    \n",
    "# Create the pairgrid object\n",
    "grid = sns.PairGrid(data = plot_data, size = 3)\n",
    "\n",
    "# Upper is a scatter plot\n",
    "grid.map_upper(plt.scatter, color = \"lightskyblue\", alpha = 0.6, marker=\".\", s=10)\n",
    "\n",
    "# Diagonal is a histogram\n",
    "grid.map_diag(plt.hist, color = \"lightskyblue\", edgecolor=\"black\")\n",
    "\n",
    "# Bottom is correlation and density plot\n",
    "grid.map_lower(corr_func)\n",
    "grid.map_lower(sns.kdeplot, cmap = plt.cm.Blues)\n",
    "\n",
    "# Title for entire plot\n",
    "plt.suptitle(\"Pairs Plot of Game Scores\", size = 36, y = 1.02);"
   ]
  },
  {
   "cell_type": "code",
   "execution_count": null,
   "metadata": {
    "_uuid": "4f316ba04de3e68d66e66b29dc96b4df3b040225"
   },
   "outputs": [],
   "source": [
    "features.shape"
   ]
  },
  {
   "cell_type": "markdown",
   "metadata": {
    "_uuid": "dbea455e11cb63af46bc0868f280792e8f7c9e73"
   },
   "source": [
    "There are 39 features (1 is target) in the dataset after feature engineering and selection."
   ]
  },
  {
   "cell_type": "markdown",
   "metadata": {
    "_uuid": "2e014e68f9a85cdd13ed7171860d6d669d4152e9"
   },
   "source": [
    "Splitting data into train and test sets."
   ]
  },
  {
   "cell_type": "code",
   "execution_count": null,
   "metadata": {
    "_uuid": "4dbda752cfb882b57012e202f0c517aa13871c05"
   },
   "outputs": [],
   "source": [
    "from sklearn.model_selection import train_test_split\n",
    "basic_target = pd.Series(features[\"Global\"])\n",
    "basic_features = features.drop(columns=\"Global\")\n",
    "features_train, features_test, target_train, target_test = train_test_split(basic_features, basic_target, \n",
    "                                                                            test_size=0.2,\n",
    "                                                                            random_state=42)\n",
    "print(features_train.shape)\n",
    "print(features_test.shape)\n",
    "print(target_train.shape)\n",
    "print(target_test.shape)"
   ]
  },
  {
   "cell_type": "markdown",
   "metadata": {
    "_uuid": "bc052d326e5a17c658e1716ea3176115eb95e45a"
   },
   "source": [
    "Defining a function to evaluate my model. I will use mean absolute error. "
   ]
  },
  {
   "cell_type": "code",
   "execution_count": null,
   "metadata": {
    "_uuid": "e533d89a4e7d776297faae83efc38562d7742f64",
    "collapsed": true
   },
   "outputs": [],
   "source": [
    "def mae(y_true, y_pred):\n",
    "    return np.average(abs(y_true - y_pred))"
   ]
  },
  {
   "cell_type": "markdown",
   "metadata": {
    "_uuid": "52259e37f2249249b0313ca692413394631b105f"
   },
   "source": [
    "For the baseline guess I'll use median value of global sales in the train dataset."
   ]
  },
  {
   "cell_type": "code",
   "execution_count": null,
   "metadata": {
    "_uuid": "dd6b276379ae911fb841f0c6b35a2377e12b1f69"
   },
   "outputs": [],
   "source": [
    "baseline_guess = np.median(target_train)\n",
    "basic_baseline_mae = mae(target_test, baseline_guess)\n",
    "print(\"Baseline guess for global sales is: {:.02f}\".format(baseline_guess))\n",
    "print(\"Baseline Performance on the test set: MAE = {:.04f}\".format(basic_baseline_mae))"
   ]
  },
  {
   "cell_type": "markdown",
   "metadata": {
    "_uuid": "eb39578eb10b38182514698639057377498c9408"
   },
   "source": [
    "I will compare several simple models with different types of regression, and then focus on the best one for hyperparameter tuning. "
   ]
  },
  {
   "cell_type": "code",
   "execution_count": null,
   "metadata": {
    "_uuid": "590aa870d73d776b3ba5f3101c41384f4a5a3aeb",
    "collapsed": true
   },
   "outputs": [],
   "source": [
    "from sklearn.linear_model import LinearRegression, Ridge\n",
    "from sklearn.ensemble import RandomForestRegressor, GradientBoostingRegressor\n",
    "from sklearn.svm import SVR\n",
    "from sklearn.neighbors import KNeighborsRegressor"
   ]
  },
  {
   "cell_type": "markdown",
   "metadata": {
    "_uuid": "0768f2ed11ae0c42168f45c18deca2d6b6949403"
   },
   "source": [
    "This is a universal function for training a model and evaluating its performance on test data."
   ]
  },
  {
   "cell_type": "code",
   "execution_count": null,
   "metadata": {
    "_uuid": "8d17b429eb574288b6dd076513f66963b4623099",
    "collapsed": true
   },
   "outputs": [],
   "source": [
    "def fit_and_evaluate(model):\n",
    "    \n",
    "    # Train the model\n",
    "    model.fit(features_train, target_train)\n",
    "    \n",
    "    # Make predictions and evalute\n",
    "    model_pred = model.predict(features_test)\n",
    "    model_mae = mae(target_test, model_pred)\n",
    "    \n",
    "    # Return the performance metric\n",
    "    return model_mae"
   ]
  },
  {
   "cell_type": "code",
   "execution_count": null,
   "metadata": {
    "_uuid": "759593a05f0051ef1bbc0af80520732dcbbfc689"
   },
   "outputs": [],
   "source": [
    "lr = LinearRegression()\n",
    "lr_mae = fit_and_evaluate(lr)\n",
    "\n",
    "print(\"Linear Regression Performance on the test set: MAE = {:.04f}\".format(lr_mae))"
   ]
  },
  {
   "cell_type": "code",
   "execution_count": null,
   "metadata": {
    "_uuid": "26a5c22b0a8e54acafc5e0bece8b53cb9b5832c8"
   },
   "outputs": [],
   "source": [
    "svm = SVR(C = 1000, gamma=0.1)\n",
    "svm_mae = fit_and_evaluate(svm)\n",
    "\n",
    "print(\"Support Vector Machine Regression Performance on the test set: MAE = {:.04f}\".format(svm_mae))"
   ]
  },
  {
   "cell_type": "code",
   "execution_count": null,
   "metadata": {
    "_uuid": "0d0eee4a46dfaf3d19d8f971875a8adc56f31d75"
   },
   "outputs": [],
   "source": [
    "random_forest = RandomForestRegressor(random_state=60)\n",
    "random_forest_mae = fit_and_evaluate(random_forest)\n",
    "\n",
    "print(\"Random Forest Regression Performance on the test set: MAE = {:.04f}\".format(random_forest_mae))"
   ]
  },
  {
   "cell_type": "code",
   "execution_count": null,
   "metadata": {
    "_uuid": "bdea3bad2857ac13faf5a88de29e3e0a3db94d8d"
   },
   "outputs": [],
   "source": [
    "gradient_boosting = GradientBoostingRegressor(random_state=60)\n",
    "gradient_boosting_mae = fit_and_evaluate(gradient_boosting)\n",
    "\n",
    "print(\"Gradient Boosting Regression Performance on the test set: MAE = {:.04f}\".format(gradient_boosting_mae))"
   ]
  },
  {
   "cell_type": "code",
   "execution_count": null,
   "metadata": {
    "_uuid": "7017a563a5c082f7187f0a9c5a1067023e00876d"
   },
   "outputs": [],
   "source": [
    "knn = KNeighborsRegressor(n_neighbors=10)\n",
    "knn_mae = fit_and_evaluate(knn)\n",
    "\n",
    "print(\"K-Nearest Neighbors Regression Performance on the test set: MAE = {:.04f}\".format(knn_mae))"
   ]
  },
  {
   "cell_type": "code",
   "execution_count": null,
   "metadata": {
    "_uuid": "b44d6a53cf1745e6c8e0562a726b21370da3efbf"
   },
   "outputs": [],
   "source": [
    "ridge = Ridge(alpha=10)\n",
    "ridge_mae = fit_and_evaluate(ridge)\n",
    "\n",
    "print(\"Ridge Regression Performance on the test set: MAE = {:.04f}\".format(ridge_mae))"
   ]
  },
  {
   "cell_type": "code",
   "execution_count": null,
   "metadata": {
    "_uuid": "e9fb3bd6a412b1d3a803d4734836e863626caef9"
   },
   "outputs": [],
   "source": [
    "model_comparison = pd.DataFrame({\"model\": [\"Linear Regression\", \"Support Vector Machine\",\n",
    "                                           \"Random Forest\", \"Gradient Boosting\",\n",
    "                                            \"K-Nearest Neighbors\", \"Baseline (median)\", \"Ridge\"],\n",
    "                                 \"mae\": [lr_mae, svm_mae, random_forest_mae, \n",
    "                                         gradient_boosting_mae, knn_mae, basic_baseline_mae, ridge_mae]})\n",
    "model_comparison.sort_values(\"mae\", ascending=False).plot(x=\"model\", y=\"mae\", kind=\"barh\",\n",
    "                                                           color=\"lightskyblue\", legend=False)\n",
    "plt.ylabel(\"\"); plt.yticks(size=14); plt.xlabel(\"Mean Absolute Error\"); plt.xticks(size=14)\n",
    "plt.title(\"Model Comparison on Test MAE\", size=20);"
   ]
  },
  {
   "cell_type": "markdown",
   "metadata": {
    "_uuid": "a8f9e207afa57e92905c76b236683ba9273df5a5"
   },
   "source": [
    "Gradient boosting regressor seems to be the best model, I will focus on this one.  \n",
    "  \n",
    "  First I am going to use randomized search to find the best parameters, and then I will use grid search for optimizing n_estimators. "
   ]
  },
  {
   "cell_type": "code",
   "execution_count": null,
   "metadata": {
    "_uuid": "9c0b953275ba2979d81e47b4f390860d98cb0aee",
    "collapsed": true
   },
   "outputs": [],
   "source": [
    "# Loss function to be optimized\n",
    "loss = [\"ls\", \"lad\", \"huber\"]\n",
    "\n",
    "# Maximum depth of each tree\n",
    "max_depth = [2, 3, 5, 10, 15]\n",
    "\n",
    "# Minimum number of samples per leaf\n",
    "min_samples_leaf = [1, 2, 4, 6, 8]\n",
    "\n",
    "# Minimum number of samples to split a node\n",
    "min_samples_split = [2, 4, 6, 10]\n",
    "\n",
    "# Maximum number of features to consider for making splits\n",
    "max_features = [\"auto\", \"sqrt\", \"log2\", None]\n",
    "\n",
    "hyperparameter_grid = {\"loss\": loss,\n",
    "                       \"max_depth\": max_depth,\n",
    "                       \"min_samples_leaf\": min_samples_leaf,\n",
    "                       \"min_samples_split\": min_samples_split,\n",
    "                       \"max_features\": max_features}"
   ]
  },
  {
   "cell_type": "code",
   "execution_count": null,
   "metadata": {
    "_uuid": "d85531314ec5c62d78d48cf5dcee1333fb092da3",
    "collapsed": true
   },
   "outputs": [],
   "source": [
    "from sklearn.model_selection import RandomizedSearchCV\n",
    "basic_model = GradientBoostingRegressor(random_state = 42)\n",
    "\n",
    "random_cv = RandomizedSearchCV(estimator=basic_model,\n",
    "                               param_distributions=hyperparameter_grid,\n",
    "                               cv=4, n_iter=20, \n",
    "                               scoring=\"neg_mean_absolute_error\",\n",
    "                               n_jobs=-1, verbose=1, \n",
    "                               return_train_score=True,\n",
    "                               random_state=42)"
   ]
  },
  {
   "cell_type": "code",
   "execution_count": null,
   "metadata": {
    "_uuid": "79288d72452c284f7d05edb68df684d34b84182a"
   },
   "outputs": [],
   "source": [
    "random_cv.fit(features_train, target_train)"
   ]
  },
  {
   "cell_type": "markdown",
   "metadata": {
    "_uuid": "7aec79b3436b7f3f7e49a0564ef858eb5da1316e"
   },
   "source": [
    "Printing out 10 best estimators found by randomized search."
   ]
  },
  {
   "cell_type": "code",
   "execution_count": null,
   "metadata": {
    "_uuid": "76b86e8ae8e49b29e3158b8fecade04b2648416c"
   },
   "outputs": [],
   "source": [
    "random_results = pd.DataFrame(random_cv.cv_results_).sort_values(\"mean_test_score\", ascending=False)\n",
    "random_results.head(10)[[\"mean_test_score\", \"param_loss\",\n",
    "                         \"param_max_depth\", \"param_min_samples_leaf\", \"param_min_samples_split\",\n",
    "                         \"param_max_features\"]]"
   ]
  },
  {
   "cell_type": "code",
   "execution_count": null,
   "metadata": {
    "_uuid": "d2b2fcc3f6ac270344b8bc6361b295312113ba0c"
   },
   "outputs": [],
   "source": [
    "random_cv.best_estimator_"
   ]
  },
  {
   "cell_type": "markdown",
   "metadata": {
    "_uuid": "01ad5a286b9a010d7c90969edd4b1b2f098a33a4"
   },
   "source": [
    "Using grid search to find optimal value of the n_estimators parameter."
   ]
  },
  {
   "cell_type": "code",
   "execution_count": null,
   "metadata": {
    "_uuid": "f51086888818e560cafd709cac03cf8106ecbfc2",
    "collapsed": true
   },
   "outputs": [],
   "source": [
    "from sklearn.model_selection import GridSearchCV\n",
    "trees_grid = {\"n_estimators\": [50, 100, 150, 200, 250, 300]}\n",
    "\n",
    "basic_model = random_cv.best_estimator_\n",
    "grid_search = GridSearchCV(estimator=basic_model, param_grid=trees_grid, cv=4, \n",
    "                           scoring=\"neg_mean_absolute_error\", verbose=1,\n",
    "                           n_jobs=-1, return_train_score=True)"
   ]
  },
  {
   "cell_type": "code",
   "execution_count": null,
   "metadata": {
    "_uuid": "b4bb7372fd381b9368cc56e7621a7669acbb5898"
   },
   "outputs": [],
   "source": [
    "grid_search.fit(features_train, target_train);"
   ]
  },
  {
   "cell_type": "markdown",
   "metadata": {
    "_uuid": "c2d3507307a716f722f30361f39a008493bb34e2"
   },
   "source": [
    "Now I want to see how the number of trees effects the performance. "
   ]
  },
  {
   "cell_type": "code",
   "execution_count": null,
   "metadata": {
    "_uuid": "257f97b44aa3dbf7e65fb24ae506d9b8d27c11e2"
   },
   "outputs": [],
   "source": [
    "results = pd.DataFrame(grid_search.cv_results_)\n",
    "\n",
    "plt.plot(results[\"param_n_estimators\"], -1 * results[\"mean_test_score\"], label = \"Testing Error\")\n",
    "plt.plot(results[\"param_n_estimators\"], -1 * results[\"mean_train_score\"], label = \"Training Error\")\n",
    "plt.xlabel(\"Number of Trees\"); plt.ylabel(\"Mean Abosolute Error\"); plt.legend();\n",
    "plt.title(\"Performance vs Number of Trees\");"
   ]
  },
  {
   "cell_type": "markdown",
   "metadata": {
    "_uuid": "3ff5e72d3e280c9f1d57bd62011ad83eb921fe3e"
   },
   "source": [
    "The graph shows that the model is overfitting. Training error keeps decreasing, while test error stays almost the same. It means that the model learns training examples very well, but cannot generalize on new, unknown data. This is not a very good model, but I will leave it as is, and try to battle overfitting in the advanced model using imputing, feature selection and feature engineering."
   ]
  },
  {
   "cell_type": "markdown",
   "metadata": {
    "_uuid": "10be849c27c27a7349b49beee49df119332694c7"
   },
   "source": [
    "Let's lock the final model and see how it performs on test data."
   ]
  },
  {
   "cell_type": "code",
   "execution_count": null,
   "metadata": {
    "_uuid": "736f4f5797dfb848efa4cfea5277f071a39c8871"
   },
   "outputs": [],
   "source": [
    "basic_final_model = grid_search.best_estimator_\n",
    "basic_final_model"
   ]
  },
  {
   "cell_type": "code",
   "execution_count": null,
   "metadata": {
    "_uuid": "26916ecc8c2a98580228e26b79a66934190084ad"
   },
   "outputs": [],
   "source": [
    "basic_final_pred = basic_final_model.predict(features_test)\n",
    "basic_final_mae = mae(target_test, basic_final_pred)\n",
    "print(\"Final model performance on the test set: MAE = {:.04f}.\".format(basic_final_mae))"
   ]
  },
  {
   "cell_type": "markdown",
   "metadata": {
    "_uuid": "f5828f7f39879559c67f663497a86f85f358feef"
   },
   "source": [
    "MAE dropped, but by a very small margin. Looks like hyperparameter tuning didn't really improve the model. I hope advanced model will have a better performance."
   ]
  },
  {
   "cell_type": "markdown",
   "metadata": {
    "_uuid": "90bf0e24066d0a11499eed2ead1d49f6b04171ae"
   },
   "source": [
    "To finish with the basic model I am going to draw 2 graphs. First one is comparison of densities of train values, test values and predictions."
   ]
  },
  {
   "cell_type": "code",
   "execution_count": null,
   "metadata": {
    "_uuid": "6791f0abf8c6cfb8d749a6d186b15912e541250f"
   },
   "outputs": [],
   "source": [
    "sns.kdeplot(basic_final_pred, label = \"Predictions\")\n",
    "sns.kdeplot(target_test, label = \"Test\")\n",
    "sns.kdeplot(target_train, label = \"Train\")\n",
    "\n",
    "plt.xlabel(\"Global Sales\"); plt.ylabel(\"Density\");\n",
    "plt.title(\"Test, Train Values and Predictions\");"
   ]
  },
  {
   "cell_type": "markdown",
   "metadata": {
    "_uuid": "46c2a62ba27fb892f8c209bad21ba2e8d60a2689"
   },
   "source": [
    "Predictions density is moved a little to the right, comparing to densities of initial values. The tail is also different. This might help tuning the model in the future. "
   ]
  },
  {
   "cell_type": "markdown",
   "metadata": {
    "_uuid": "b500a69d0aa1c9fe9d2e9dbd80f60b6e07d5d5e6"
   },
   "source": [
    "Second graph is a histogram of residuals - differences between real values and predictions. "
   ]
  },
  {
   "cell_type": "code",
   "execution_count": null,
   "metadata": {
    "_uuid": "aae4bfed4bd04f421ca6978edbcaaad4acff67e5"
   },
   "outputs": [],
   "source": [
    "basic_residuals = basic_final_pred - target_test\n",
    "\n",
    "sns.kdeplot(basic_residuals, color = \"lightskyblue\")\n",
    "plt.xlabel(\"Error\"); plt.ylabel(\"Count\")\n",
    "plt.title(\"Distribution of Residuals\");"
   ]
  },
  {
   "cell_type": "markdown",
   "metadata": {
    "_uuid": "b4550cd4a646927f67d35463df3d9c1b8470821c"
   },
   "source": [
    "## Advanced model"
   ]
  },
  {
   "cell_type": "code",
   "execution_count": null,
   "metadata": {
    "_uuid": "0eabb336f5b761f2c94dd9c5942cffb5a7bdd4a1",
    "collapsed": true
   },
   "outputs": [],
   "source": [
    "def donut_chart(column, palette=\"Set2\"):\n",
    "    values = column.value_counts().values\n",
    "    labels = column.value_counts().index\n",
    "    plt.pie(values, colors=sns.color_palette(palette), \n",
    "            labels=labels, autopct=\"%1.1f%%\", \n",
    "            startangle=90, pctdistance=0.85)\n",
    "    #draw circle\n",
    "    centre_circle = plt.Circle((0,0), 0.70, fc=\"white\")\n",
    "    fig = plt.gcf()\n",
    "    fig.gca().add_artist(centre_circle)"
   ]
  },
  {
   "cell_type": "code",
   "execution_count": null,
   "metadata": {
    "_uuid": "2cf29928415605f259a3b21d37d23cdf656f75a7"
   },
   "outputs": [],
   "source": [
    "donut_chart(data[\"Platform\"])\n",
    "plt.title(\"Platforms\")\n",
    "plt.axis(\"equal\");"
   ]
  },
  {
   "cell_type": "code",
   "execution_count": null,
   "metadata": {
    "_uuid": "1bc0207fd3e5cbb0172f9557febd4706ce4ff2ff"
   },
   "outputs": [],
   "source": [
    "data[\"Platform\"].unique()"
   ]
  },
  {
   "cell_type": "markdown",
   "metadata": {
    "_uuid": "783c5ab5a0fcf6248af17f3f4923d3f952427dad"
   },
   "source": [
    "There are too many different platforms and most of them represent a very small percent of games. I am going to group platforms to reduce the number of features."
   ]
  },
  {
   "cell_type": "code",
   "execution_count": null,
   "metadata": {
    "_uuid": "229c2321eac3f924dbbd7fa8565b40be9bdc5d8c",
    "collapsed": true
   },
   "outputs": [],
   "source": [
    "platforms = {\"Playstation\" : [\"PS\", \"PS2\", \"PS3\", \"PS4\"],\n",
    "             \"Xbox\" : [\"XB\", \"X360\", \"XOne\"], \n",
    "             \"PC\" : [\"PC\"],\n",
    "             \"Nintendo\" : [\"Wii\", \"WiiU\"],\n",
    "             \"Portable\" : [\"GB\", \"GBA\", \"GC\", \"DS\", \"3DS\", \"PSP\", \"PSV\"]}"
   ]
  },
  {
   "cell_type": "code",
   "execution_count": null,
   "metadata": {
    "_uuid": "26c49f52fc31e77962653ece882d44b3b192e007",
    "collapsed": true
   },
   "outputs": [],
   "source": [
    "def get_group_label(x, groups=None):\n",
    "    if groups is None:\n",
    "        return \"Other\"\n",
    "    else:\n",
    "        for key, val in groups.items():\n",
    "            if x in val:\n",
    "                return key\n",
    "        return \"Other\""
   ]
  },
  {
   "cell_type": "code",
   "execution_count": null,
   "metadata": {
    "_uuid": "4ea2c6e47d1f83081019b48ca80fd51285111900"
   },
   "outputs": [],
   "source": [
    "data[\"Grouped_Platform\"] = data[\"Platform\"].apply(lambda x: get_group_label(x, groups=platforms))\n",
    "donut_chart(data[\"Grouped_Platform\"])\n",
    "plt.title(\"Groups of platforms\")\n",
    "plt.axis(\"equal\");"
   ]
  },
  {
   "cell_type": "markdown",
   "metadata": {
    "_uuid": "1e5bd3c9e02f5c3e2c5d64caf147647ee9a62b10"
   },
   "source": [
    "Looks much better."
   ]
  },
  {
   "cell_type": "markdown",
   "metadata": {
    "_uuid": "878baca7779ad035438d1386e1f55f0dbffb1496"
   },
   "source": [
    "Now I want to check the same thing for genres."
   ]
  },
  {
   "cell_type": "code",
   "execution_count": null,
   "metadata": {
    "_uuid": "366c11e074af4e5b8a11cbfa5708c5d7a3876a07"
   },
   "outputs": [],
   "source": [
    "donut_chart(data[\"Genre\"], palette=\"muted\")\n",
    "plt.title(\"Genres\")\n",
    "plt.axis(\"equal\");"
   ]
  },
  {
   "cell_type": "markdown",
   "metadata": {
    "_uuid": "a1df62c0152190447314c8816f1a9a1440a23598"
   },
   "source": [
    "The distribution seems ok, even though there is a significant number of different genres."
   ]
  },
  {
   "cell_type": "code",
   "execution_count": null,
   "metadata": {
    "_uuid": "5556d60d58fef361ad3ad86cc68ea79e1df07453"
   },
   "outputs": [],
   "source": [
    "scored[\"Grouped_Platform\"] = scored[\"Platform\"].apply(lambda x: get_group_label(x, platforms))\n",
    "donut_chart(scored[\"Grouped_Platform\"])\n",
    "plt.title(\"Groups of platforms for games with score\")\n",
    "plt.axis(\"equal\");"
   ]
  },
  {
   "cell_type": "markdown",
   "metadata": {
    "_uuid": "6456417c6d5cd62b03b13a514f48214bc2bd6f63"
   },
   "source": [
    "Almost all games that have scores are for \"big\" platfroms: PC, PS, Xbox or portable. But there are few from the \"Other\" group. I was interested what these games were so I searched for them."
   ]
  },
  {
   "cell_type": "code",
   "execution_count": null,
   "metadata": {
    "_uuid": "a69ac7f0bd5e9939771d2e4837ae8ee15c6315c7"
   },
   "outputs": [],
   "source": [
    "scored[scored[\"Grouped_Platform\"]==\"Other\"]"
   ]
  },
  {
   "cell_type": "markdown",
   "metadata": {
    "_uuid": "a7e8514439d519c4d9005c7222af9175f2308ba5"
   },
   "source": [
    "All these games are for \"DC\" platfom which is Sega Dreamcast, the last of Sega consoles. It was released in 1998 and was the first of sixth generation consoles,  PS2, Gamecube and Xbox. Dreamcast was actually a very good and innovative  product which recieved a lot of positive credit, but it couldn't compete with Sony or Microsoft consoles and Sega was forced to stop the production.\n",
    "\n",
    "   In 2006 Sega started a new wave of sales of Dreamcast consoles and games, which were restored from the leftovers of first production. Following this, IGN re-launched their IGN Dreamcast section to review these games and compare them with PS3, Xbox 360 and Wii games."
   ]
  },
  {
   "cell_type": "markdown",
   "metadata": {
    "_uuid": "d707cf6a74a107184fa8796f713d7f296f0b9c8e"
   },
   "source": [
    "Next I want to create some new features: weighted score and my own developer rating. First, I find percent of all games created by each developer, then calculate cumulative percent starting with devs with the least number of games. Finally, I divide them into 5 groups (20% each). Higher rank means more games developed."
   ]
  },
  {
   "cell_type": "code",
   "execution_count": null,
   "metadata": {
    "_uuid": "4d0e52c091b47d3cee5b716d138966e593266645"
   },
   "outputs": [],
   "source": [
    "scored[\"Weighted_Score\"] = (scored[\"User_Score\"] * 10 * scored[\"User_Count\"] + \n",
    "                            scored[\"Critic_Score\"] * scored[\"Critic_Count\"]) / (scored[\"User_Count\"] + scored[\"Critic_Count\"])\n",
    "devs = pd.DataFrame({\"dev\": scored[\"Developer\"].value_counts().index,\n",
    "                     \"count\": scored[\"Developer\"].value_counts().values})\n",
    "m_score = pd.DataFrame({\"dev\": scored.groupby(\"Developer\")[\"Weighted_Score\"].mean().index,\n",
    "                        \"mean_score\": scored.groupby(\"Developer\")[\"Weighted_Score\"].mean().values})\n",
    "devs = pd.merge(devs, m_score, on=\"dev\")\n",
    "devs = devs.sort_values(by=\"count\", ascending=True)\n",
    "devs[\"percent\"] = devs[\"count\"] / devs[\"count\"].sum()\n",
    "devs[\"top%\"] = devs[\"percent\"].cumsum() * 100\n",
    "n_groups = 5\n",
    "devs[\"top_group\"] = (devs[\"top%\"] * n_groups) // 100 + 1\n",
    "devs[\"top_group\"].iloc[-1] = n_groups\n",
    "devs"
   ]
  },
  {
   "cell_type": "markdown",
   "metadata": {
    "_uuid": "3ebc479275269a8dd65092693400634fa056a631"
   },
   "source": [
    "A nice graph to see the realtion between developer rank and mean weighted score of developer's games."
   ]
  },
  {
   "cell_type": "code",
   "execution_count": null,
   "metadata": {
    "_uuid": "432ab23a059b1232e238fa24b9606b796d606537"
   },
   "outputs": [],
   "source": [
    "pal = sns.color_palette(\"RdYlGn\", n_groups)\n",
    "g = sns.JointGrid(x=\"top%\", y=\"mean_score\", data=devs, size=12)\n",
    "legend_elements = []\n",
    "for k in range(0, n_groups):\n",
    "    g.ax_joint.scatter(devs[devs[\"top_group\"]==k+1][\"top%\"], \n",
    "                       devs[devs[\"top_group\"]==k+1][\"mean_score\"],\n",
    "                       color=pal[k], alpha=.9, edgecolor=\"black\")\n",
    "    legend_elements.append(Line2D([0], [0], label=k+1, marker=\"o\", ls=\"\", \n",
    "                                  mfc=pal[k], mec=pal[k], alpha=.9, markersize=15))\n",
    "    g.ax_marg_x.bar(np.arange(k * 100 / n_groups, (k+1) * 100 / n_groups), \n",
    "                    devs[devs[\"top_group\"]==k+1].shape[0], \n",
    "                    width=1, align=\"edge\", color=pal[k], alpha=.9)\n",
    "g.ax_marg_y.hist(devs[\"mean_score\"], color=pal[-1], alpha=.9,\n",
    "                 orientation=\"horizontal\", bins=25, edgecolor=\"white\")\n",
    "g.set_axis_labels(\"Top %\", \"Mean Weighted Score\")\n",
    "g.ax_joint.tick_params(labelsize=15)\n",
    "g.ax_marg_x.grid(False)\n",
    "g.ax_marg_y.grid(False)\n",
    "#g.ax_joint.legend(handles=legend_elements, title=\"Top Group\", loc=4)\n",
    "plt.subplots_adjust(top=0.9)\n",
    "g.fig.suptitle(\"Developers\");"
   ]
  },
  {
   "cell_type": "markdown",
   "metadata": {
    "_uuid": "6e054217de16ec9160d019c9d1468f662c22d8da"
   },
   "source": [
    "Before creating and fitting a model I have to fill in missing values. I am filling scores and counts with zeros, because there were no real zero scores or counts in the dataset, so it will indicate absence of scores."
   ]
  },
  {
   "cell_type": "code",
   "execution_count": null,
   "metadata": {
    "_uuid": "60b1ad0abb6b3c2f75a8a9cf0792aef143d583c9",
    "collapsed": true
   },
   "outputs": [],
   "source": [
    "data[\"Critic_Score\"].fillna(0.0, inplace=True)\n",
    "data[\"Critic_Count\"].fillna(0.0, inplace=True)\n",
    "data[\"User_Score\"].fillna(0.0, inplace=True)\n",
    "data[\"User_Count\"].fillna(0.0, inplace=True)\n",
    "data = data.join(devs.set_index(\"dev\")[\"top_group\"], on=\"Developer\")\n",
    "data = data.rename(columns={\"top_group\": \"Developer_Rank\"})\n",
    "data[\"Developer_Rank\"].fillna(0.0, inplace=True)\n",
    "data[\"Rating\"].fillna(\"None\", inplace=True)"
   ]
  },
  {
   "cell_type": "markdown",
   "metadata": {
    "_uuid": "d28f816d57cebcd13cafeae39a4b70adb6585bec"
   },
   "source": [
    "Removing outliers in User_Count column."
   ]
  },
  {
   "cell_type": "code",
   "execution_count": null,
   "metadata": {
    "_uuid": "d98bd41480feddc89fd8f658c67ca1f3829610aa",
    "collapsed": true
   },
   "outputs": [],
   "source": [
    "tmp, rmvd_tmp = rm_outliers(data[data[\"User_Count\"] != 0], [\"User_Count\"])\n",
    "data.drop(rmvd_tmp.index, axis=0, inplace=True)"
   ]
  },
  {
   "cell_type": "markdown",
   "metadata": {
    "_uuid": "e0f6bdbc287abd4606fef4869bcee34fd96c91c5"
   },
   "source": [
    "Creating Weighted_Score column (earlier I did it for \"scored\" dataframe)."
   ]
  },
  {
   "cell_type": "code",
   "execution_count": null,
   "metadata": {
    "_uuid": "811114b41e89a8266f1ecf439963047efc77a947",
    "collapsed": true
   },
   "outputs": [],
   "source": [
    "data[\"Weighted_Score\"] = (data[\"User_Score\"] * 10 * data[\"User_Count\"] + \n",
    "                            data[\"Critic_Score\"] * data[\"Critic_Count\"]) / (data[\"User_Count\"] + data[\"Critic_Count\"])\n",
    "data[\"Weighted_Score\"].fillna(0.0, inplace=True)"
   ]
  },
  {
   "cell_type": "code",
   "execution_count": null,
   "metadata": {
    "_uuid": "7efb2301e624acbd74a47cf53c272a3beff0ccba"
   },
   "outputs": [],
   "source": [
    "data.info()"
   ]
  },
  {
   "cell_type": "markdown",
   "metadata": {
    "_uuid": "2ec51ef791f804a9a406e4311acdc5e4bd0a0b26"
   },
   "source": [
    "Now I will do the same things as I did in the basic model, except for using Ordinal encoding for categorical values instead of OneHot. I tried different kinds of encodings, and ordinal seems to work best."
   ]
  },
  {
   "cell_type": "code",
   "execution_count": null,
   "metadata": {
    "_uuid": "f9a09ea163662d977ba980de3bb0e82396eecc4b",
    "collapsed": true
   },
   "outputs": [],
   "source": [
    "import category_encoders as ce\n",
    "# Select the numeric columns\n",
    "numeric_subset = data.select_dtypes(\"number\").drop(columns=[\"NA\", \"EU\", \"JP\", \"Other\", \"Year\"])\n",
    "\n",
    "# Select the categorical columns\n",
    "categorical_subset = data[[\"Grouped_Platform\", \"Genre\", \"Rating\"]]\n",
    "\n",
    "# One hot encode\n",
    "# categorical_subset = pd.get_dummies(categorical_subset)\n",
    "\n",
    "mapping = []\n",
    "for cat in categorical_subset.columns:\n",
    "    tmp = scored.groupby(cat).median()[\"Weighted_Score\"]\n",
    "    mapping.append({\"col\": cat, \"mapping\": [x for x in np.argsort(tmp).items()]})\n",
    "    \n",
    "encoder = ce.ordinal.OrdinalEncoder()\n",
    "categorical_subset = encoder.fit_transform(categorical_subset, mapping=mapping)\n",
    "\n",
    "# Join the two dataframes using concat\n",
    "# Make sure to use axis = 1 to perform a column bind\n",
    "features = pd.concat([numeric_subset, categorical_subset], axis = 1)\n",
    "\n",
    "# Find correlations with the score \n",
    "correlations = features.corr()[\"Global\"].dropna().sort_values()"
   ]
  },
  {
   "cell_type": "code",
   "execution_count": null,
   "metadata": {
    "_uuid": "ccbba8050ea5eb99ddee7a518033ba9568db999c"
   },
   "outputs": [],
   "source": [
    "target = pd.Series(features[\"Global\"])\n",
    "features = features.drop(columns=\"Global\")\n",
    "features_train, features_test, target_train, target_test = train_test_split(features, target, \n",
    "                                                                            test_size=0.2,\n",
    "                                                                            random_state=42)\n",
    "baseline_guess = np.median(target_train)\n",
    "baseline_mae = mae(target_test, baseline_guess)\n",
    "print(\"Baseline guess for global sales is: {:.02f}\".format(baseline_guess))\n",
    "print(\"Baseline Performance on the test set: MAE = {:.04f}\".format(baseline_mae))"
   ]
  },
  {
   "cell_type": "code",
   "execution_count": null,
   "metadata": {
    "_uuid": "0513cb1124d57c5584e992860a708fb3ecdcb0bf"
   },
   "outputs": [],
   "source": [
    "model = GradientBoostingRegressor(random_state = 42)\n",
    "\n",
    "random_cv = RandomizedSearchCV(estimator=model,\n",
    "                               param_distributions=hyperparameter_grid,\n",
    "                               cv=4, n_iter=20, \n",
    "                               scoring=\"neg_mean_absolute_error\",\n",
    "                               n_jobs=-1, verbose=1, \n",
    "                               return_train_score=True,\n",
    "                               random_state=42)\n",
    "random_cv.fit(features_train, target_train);"
   ]
  },
  {
   "cell_type": "code",
   "execution_count": null,
   "metadata": {
    "_uuid": "c375748b8d497d6428eb1278de11b9a6986fd674"
   },
   "outputs": [],
   "source": [
    "trees_grid = {\"n_estimators\": [50, 100, 150, 200, 250, 300]}\n",
    "\n",
    "model = random_cv.best_estimator_\n",
    "grid_search = GridSearchCV(estimator=model, param_grid=trees_grid, cv=4, \n",
    "                           scoring=\"neg_mean_absolute_error\", verbose=1,\n",
    "                           n_jobs=-1, return_train_score=True)\n",
    "grid_search.fit(features_train, target_train);"
   ]
  },
  {
   "cell_type": "code",
   "execution_count": null,
   "metadata": {
    "_uuid": "43cb2156437a9709dd417fd663980a745e491aa5"
   },
   "outputs": [],
   "source": [
    "results = pd.DataFrame(grid_search.cv_results_)\n",
    "\n",
    "plt.plot(results[\"param_n_estimators\"], -1 * results[\"mean_test_score\"], label = \"Testing Error\")\n",
    "plt.plot(results[\"param_n_estimators\"], -1 * results[\"mean_train_score\"], label = \"Training Error\")\n",
    "plt.xlabel(\"Number of Trees\"); plt.ylabel(\"Mean Abosolute Error\"); plt.legend();\n",
    "plt.title(\"Performance vs Number of Trees\");"
   ]
  },
  {
   "cell_type": "code",
   "execution_count": null,
   "metadata": {
    "_uuid": "8c7a92731a3cef752b147c71cc58665a90d6876f"
   },
   "outputs": [],
   "source": [
    "final_model = grid_search.best_estimator_\n",
    "final_pred = final_model.predict(features_test)\n",
    "final_mae = mae(target_test, final_pred)\n",
    "print(\"Final model performance on the test set: MAE = {:.04f}.\".format(final_mae))"
   ]
  },
  {
   "cell_type": "markdown",
   "metadata": {
    "_uuid": "cdc60ec4ff2b67e88f6b66e190eae02c231c725b"
   },
   "source": [
    "\"Advanced\" model gives better results (lower error on test set) which is a good achievement, but the model is still overfitting (graph above). There is definitely room for improvement. "
   ]
  },
  {
   "cell_type": "markdown",
   "metadata": {
    "_uuid": "e264c2b2e7a24d861b1e9beef19fd0196ed81a76"
   },
   "source": [
    "And to finish with the project, a nice group of plots summarizing the results."
   ]
  },
  {
   "cell_type": "code",
   "execution_count": null,
   "metadata": {
    "_uuid": "59106d07e79e3d7c89951aacdb1d6aef4b110436"
   },
   "outputs": [],
   "source": [
    "import matplotlib.gridspec as gridspec\n",
    "figsize(20, 16)\n",
    "\n",
    "fig = plt.figure()\n",
    "gs = gridspec.GridSpec(2, 2)\n",
    "\n",
    "plt.suptitle(\"Video Games - Predicting Global Sales\", size=30, weight=\"bold\");\n",
    "\n",
    "ax = fig.add_subplot(gs[0, 0])\n",
    "plt.sca(ax)\n",
    "sns.kdeplot(final_pred, color=\"limegreen\", label=\"Advanced Model\")\n",
    "sns.kdeplot(basic_final_pred, color=\"indianred\", label=\"Basic Model\")\n",
    "sns.kdeplot(target_test, color=\"royalblue\", label=\"Test\")\n",
    "plt.xlabel(\"Global Sales, $M\", size=20); plt.ylabel(\"Density\", size=20);\n",
    "plt.title(\"Distribution of Target Values\", size=24);\n",
    "\n",
    "residuals = final_pred - target_test\n",
    "ax = fig.add_subplot(gs[0, 1])\n",
    "plt.sca(ax)\n",
    "sns.kdeplot(residuals, color = \"limegreen\", label=\"Advanced Model\")\n",
    "sns.kdeplot(basic_residuals, color=\"indianred\", label=\"Basic Model\")\n",
    "plt.xlabel(\"Residuals, $M\", size=20);plt.ylabel(\"Density\", size=20);\n",
    "plt.title(\"Distribution of Errors\", size=24);\n",
    "\n",
    "feature_importance = final_model.feature_importances_\n",
    "feature_names = features.columns.tolist()\n",
    "feature_importance = 100.0 * (feature_importance / feature_importance.max())\n",
    "sorted_idx = np.argsort(feature_importance)\n",
    "pos = np.arange(sorted_idx.shape[0]) + .5\n",
    "ax = fig.add_subplot(gs[1, 0])\n",
    "plt.sca(ax)\n",
    "plt.barh(pos, feature_importance[sorted_idx], align='center', color=\"goldenrod\")\n",
    "plt.yticks(pos, [feature_names[x] for x in sorted_idx], size=16)\n",
    "plt.xlabel('Relative Importance', size=20)\n",
    "plt.title('Variable Importance', size=24);\n",
    "\n",
    "model_comparison = pd.DataFrame({\"model\": [\"Baseline\", \"Basic\", \"Advanced\"],\n",
    "                                 \"mae\": [basic_baseline_mae, basic_final_mae, final_mae],\n",
    "                                 \"diff\": [\"0.00%\", \"-{:.2f}%\".format((1 - basic_final_mae / basic_baseline_mae) * 100), \"-{:.2f}%\".format((1 - final_mae / basic_baseline_mae) * 100)],\n",
    "                                 \"color\": [\"royalblue\", \"indianred\", \"limegreen\"]})\n",
    "model_comparison.sort_values(\"mae\", ascending=False)\n",
    "pos = np.arange(3) + .5\n",
    "ax = fig.add_subplot(gs[1, 1])\n",
    "plt.sca(ax)\n",
    "plt.barh(pos, model_comparison[\"mae\"], align=\"center\", color=model_comparison[\"color\"])\n",
    "for i in [1, 2]:\n",
    "    plt.text(plt.xlim()[1], pos[i], model_comparison[\"diff\"][i], \n",
    "             verticalalignment=\"center\", horizontalalignment=\"right\")\n",
    "plt.yticks(pos, model_comparison[\"model\"], size=16); plt.xlabel(\"Mean Absolute Error\", size=20);\n",
    "plt.title(\"Test MAE\", size=24);"
   ]
  },
  {
   "cell_type": "code",
   "execution_count": null,
   "metadata": {
    "_uuid": "2f8992c5c2880d2e59c1fce38ac521b84dba9fc1",
    "collapsed": true
   },
   "outputs": [],
   "source": []
  }
 ],
 "metadata": {
  "kernelspec": {
   "display_name": "Python 3",
   "language": "python",
   "name": "python3"
  },
  "language_info": {
   "codemirror_mode": {
    "name": "ipython",
    "version": 3
   },
   "file_extension": ".py",
   "mimetype": "text/x-python",
   "name": "python",
   "nbconvert_exporter": "python",
   "pygments_lexer": "ipython3",
   "version": "3.7.2"
  }
 },
 "nbformat": 4,
 "nbformat_minor": 2
}
